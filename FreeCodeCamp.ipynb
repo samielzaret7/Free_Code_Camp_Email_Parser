{
 "cells": [
  {
   "cell_type": "code",
   "execution_count": 10,
   "id": "51683e6e",
   "metadata": {},
   "outputs": [],
   "source": [
    "from email import policy\n",
    "from email.parser import BytesParser\n",
    "import requests\n",
    "import logging\n",
    "from datetime import date\n",
    "import subprocess\n",
    "import os"
   ]
  },
  {
   "cell_type": "code",
   "execution_count": null,
   "id": "8233d724",
   "metadata": {},
   "outputs": [],
   "source": [
    "from email import policy\n",
    "from email.parser import BytesParser\n",
    "\n",
    "def eml_to_html(eml_file):\n",
    "    with open(eml_file, 'rb') as file:\n",
    "        msg = BytesParser(policy=policy.default).parse(file)\n",
    "    \n",
    "    html_content = None\n",
    "    for part in msg.walk():\n",
    "        if part.get_content_type() == \"text/html\":\n",
    "            html_content = part.get_payload(decode=True)\n",
    "            break\n",
    "    \n",
    "    if html_content:\n",
    "        return html_content.decode('utf-8', errors='replace')\n",
    "    else:\n",
    "        plain_text_part = msg.get_body(preferencelist=('plain',))\n",
    "        if plain_text_part:\n",
    "            return f\"<html><body>{plain_text_part.get_content()}</body></html>\"\n",
    "        else:\n",
    "            return \"<html><body>No content found</body></html>\""
   ]
  },
  {
   "cell_type": "code",
   "execution_count": null,
   "id": "5d717fd8",
   "metadata": {},
   "outputs": [],
   "source": [
    "eml_file = '/Users/zenmaster/Programming/FreeCodeCamp/EML_Files/Learn how to code your own MCP server with Python [Free 1 hour course].eml'"
   ]
  },
  {
   "cell_type": "code",
   "execution_count": null,
   "id": "a1a2e168",
   "metadata": {},
   "outputs": [],
   "source": [
    "with open(eml_file, 'rb') as file:\n",
    "                msg = BytesParser(policy=policy.default).parse(file)"
   ]
  },
  {
   "cell_type": "code",
   "execution_count": null,
   "id": "1476c092",
   "metadata": {},
   "outputs": [],
   "source": [
    "parts = []\n",
    "for part in msg.walk():\n",
    "    print(part)"
   ]
  },
  {
   "cell_type": "code",
   "execution_count": null,
   "id": "50e84973",
   "metadata": {},
   "outputs": [],
   "source": [
    "from_email = msg.get(\"From\")[0].split(\"<\")[1].replace(\">\",\"\")\n",
    "from_email"
   ]
  },
  {
   "cell_type": "code",
   "execution_count": null,
   "id": "f8e3461f",
   "metadata": {},
   "outputs": [],
   "source": [
    "from_email = msg.get(\"From\").split(\"<\")[1].replace(\">\",\"\")\n",
    "from_email"
   ]
  },
  {
   "cell_type": "code",
   "execution_count": null,
   "id": "746e6f68",
   "metadata": {},
   "outputs": [],
   "source": [
    "subject = msg.get(\"Subject\")\n",
    "subject"
   ]
  },
  {
   "cell_type": "code",
   "execution_count": null,
   "id": "71517d4d",
   "metadata": {},
   "outputs": [],
   "source": [
    "html = eml_to_html(eml_file)"
   ]
  },
  {
   "cell_type": "code",
   "execution_count": null,
   "id": "bae2b198",
   "metadata": {},
   "outputs": [],
   "source": [
    "html"
   ]
  },
  {
   "cell_type": "code",
   "execution_count": null,
   "id": "01ecb501",
   "metadata": {},
   "outputs": [],
   "source": [
    "import requests\n",
    "\n",
    "data = {\n",
    "    \"from\": \"freecodecamp@example.com\",\n",
    "    \"subject\": \"Weekly FreeCodeCamp Courses\",\n",
    "    \"html\": html\n",
    "}\n",
    "\n",
    "r = requests.post(\"http://127.0.0.1:8000/inbound\", json=data)\n",
    "print(r.json())\n"
   ]
  },
  {
   "cell_type": "code",
   "execution_count": null,
   "id": "0997618d",
   "metadata": {},
   "outputs": [],
   "source": [
    "conda activate /Users/zenmaster/Programming/FreeCodeCamp/.conda"
   ]
  },
  {
   "cell_type": "code",
   "execution_count": null,
   "id": "662c5608",
   "metadata": {},
   "outputs": [],
   "source": [
    "streamlit run ui/app.py"
   ]
  },
  {
   "cell_type": "code",
   "execution_count": null,
   "id": "8cf16c77",
   "metadata": {},
   "outputs": [],
   "source": [
    "uvicorn api.main:app --reload"
   ]
  },
  {
   "cell_type": "code",
   "execution_count": 8,
   "id": "b50fa420",
   "metadata": {},
   "outputs": [],
   "source": [
    "import shutil\n",
    "import os\n",
    "import logging"
   ]
  },
  {
   "cell_type": "code",
   "execution_count": 96,
   "id": "f534bddb",
   "metadata": {},
   "outputs": [],
   "source": [
    "def eml_to_html(parent_folder):\n",
    "\n",
    "    logging.info('eml_to_html started execution.')\n",
    "\n",
    "    folder_with_files = os.path.join(parent_folder, \"EML_Files\")\n",
    "\n",
    "    html_list = []\n",
    "    total_eml_files = 0\n",
    "    for _,_,files in os.walk(folder_with_files):\n",
    "\n",
    "        for file in files:\n",
    "            if file.endswith(\".eml\"):\n",
    "\n",
    "                total_eml_files+=1\n",
    "\n",
    "                file_path = os.path.join(folder_with_files, file)\n",
    "            \n",
    "                file_data = {}\n",
    "\n",
    "                if not os.path.exists(file_path):\n",
    "                    continue\n",
    "\n",
    "                with open(file_path, 'rb') as opened_file:\n",
    "                    msg = BytesParser(policy=policy.default).parse(opened_file)\n",
    "                   \n",
    "                plain_text_part = msg.get_body(preferencelist=('plain',))\n",
    "\n",
    "                if plain_text_part:\n",
    "                    try:\n",
    "                        file_data[\"From\"] = msg.get(\"From\").split(\"<\")[1].replace(\">\",\"\")\n",
    "                    except:\n",
    "                        file_data[\"From\"] = \"Error when getting From data\"\n",
    "\n",
    "                    try:\n",
    "                        file_data[\"Subject\"] = msg.get(\"Subject\")\n",
    "                    except:\n",
    "                        file_data[\"Subject\"] = \"Error when getting Subject data\"\n",
    "\n",
    "                    try:\n",
    "                        file_data[\"Body\"] = f\"<html><body>{plain_text_part.get_content()}</body></html>\"\n",
    "                    except:\n",
    "                        file_data[\"Body\"] = \"<html><body>Error when getting Body data</body></html>\"\n",
    "\n",
    "                    html_list.append(file_data)\n",
    "                    \n",
    "                else:\n",
    "                    file_data[\"From\"] = \"Couldn't get From data\"\n",
    "                    file_data[\"Subject\"] = \"Couldn't get Subject data\"\n",
    "                    file_data[\"Body\"] = \"<html><body>No content found</body></html>\"\n",
    "\n",
    "                    html_list.append(file_data)\n",
    "                \n",
    "                \n",
    "                \n",
    "                processed_file = os.path.join(folder_with_files, \"Processed\", file)\n",
    "                shutil.move(file_path,processed_file)\n",
    "\n",
    "    logging.info(f\"Total eml files in {folder_with_files}: {total_eml_files}\")\n",
    "    logging.info(f\"Total items in html_list: {len(html_list)}\")\n",
    "    \n",
    "    return html_list"
   ]
  },
  {
   "cell_type": "code",
   "execution_count": 61,
   "id": "d9ff3ebf",
   "metadata": {},
   "outputs": [],
   "source": [
    "parent_folder = os.getcwd()\n",
    "folder_with_files = os.path.join(parent_folder, \"EML_Files\")\n",
    "file = \"Learn Full Stack Development [Free 47-hour YouTube course on Node, Git, SQL, TypeScript].eml\"\n",
    "file_path = \"/Users/zenmaster/Programming/FreeCodeCamp/EML_Files/\" + file\n",
    "\n"
   ]
  },
  {
   "cell_type": "code",
   "execution_count": null,
   "id": "1c66fbc2",
   "metadata": {},
   "outputs": [
    {
     "data": {
      "text/plain": [
       "[{'From': 'quincy@freecodecamp.org',\n",
       "  'Subject': 'Learn Full Stack Development [Free 47-hour YouTube course on Node, Git, SQL, TypeScript]',\n",
       "  'Body': \"<html><body>Here are this week's five freeCodeCamp resources that are worth your time:\\n\\n1. freeCodeCamp just published a new in-depth course that will teach you full stack development fundamentals from the ground up. It covers front end development tools like HTML, CSS, and JavaScript. Then it moves to back end development tools like Node, SQL, and TypeScript. You can code along at home and build a variety of projects while getting exposed to a ton of concepts. (47 hour YouTube course): https://www.freecodecamp.org/news/become-a-full-stack-developer-with-one-video/\\n\\n2. We also just completed work on this new Go programming course where you build your own movie streaming app. Go is a fast back end language, and here we're pairing it with the Gin-Gonic web server framework. As you build this project, you'll also integrate your movie database with OpenAI's API to analyze data and give your users personalized movie recommendations. (15 hour YouTube course): https://www.freecodecamp.org/news/build-a-full-stack-movie-streaming-app-with-go-react-mongodb-openai/\\n\\n3. On this week's podcast I interview the self-taught developer who built freeCodeCamp's relational database curriculum, and is now designing our daily coding challenges. Tom Mondloch shares how he finished community college and wasn't sure what to do next. So he spent the next few years working odd jobs in the great outdoors. He used freeCodeCamp to learn modern development tools and started contributing to open source projects. He shares tips for brushing up on your skills after you've taken a long break from programming. (1 hour watch or listen in your favorite podcast app): https://www.freecodecamp.org/news/lone-wolf-dev-turned-open-source-super-contributor-tom-mondloch-podcast-190/\\n\\n4. When browsing the web, you may see the error message that something has been “blocked by CORS policy.” CORS stands for Cross-Origin Resource Sharing. When fetching data, if the domain of the requester is different from the domain of the receiver, your browser will reject that request. It's an important security measure, but it can also be a headache for developers trying to maintain their web apps. Luckily, freeCodeCamp just published this tutorial – chock full of theory and code examples – to help you understand the basics. (20 minute read): https://www.freecodecamp.org/news/how-to-fix-cross-origin-errors/\\n\\n5. You've probably heard people throw around terms like Deep Learning, Machine Learning, and Generative AI. But what do they mean in relation to one another? This quick article breaks down the jargon for you in plain English. (10 minute read): https://www.freecodecamp.org/news/machine-learning-vs-deep-learning-vs-generative-ai/\\n\\nI'm proud of the freeCodeCamp community and all these open source learning resources we're building. If you're proud of it too, then please consider joining the 10,881 kind folks who support our charity and our mission: https://www.freecodecamp.org/donate\\n\\nQuote of the Week: \\n“Just start. Find an open source repo. Find an issue. Even if it’s just a typo. Fix it and move on from there. That’s how you gain experience and grow as a developer.” — Software Engineer Tom Mondloch on this week's freeCodeCamp podcast\\n\\nUntil next week, happy coding.\\n\\n-- Quincy Larson\\n\\nTeacher and founder of freeCodeCamp.org\\n\\nIf these aren't worth your time, you can turn them off: https://www.freecodecamp.org/ue/aT58EEzJqwvnzdoCT8yZm\\n</body></html>\"},\n",
       " {'From': 'quincy@freecodecamp.org',\n",
       "  'Subject': 'Learn Data Structures and Algorithms [Free 49-hour programming course]',\n",
       "  'Body': \"<html><body>Here are this week's five freeCodeCamp resources that are worth your time:\\n\\n1. freeCodeCamp just published a massive course that will teach you almost every major data structure and algorithm that may come up in a developer job interview. You'll learn about Time Complexity, Space Complexity, and Big O Notation. Then you'll learn concepts like Trees, Graphs, Dynamic Programming, Backtracking, and more. (49 hour YouTube course): https://www.freecodecamp.org/news/master-technical-interviews-by-learning-data-structures-and-algorithms/\\n\\n2. freeCodeCamp also published a handbook that will teach you React for beginners. React is a powerful front end development library that tons of companies use to make their websites more interactive. If you already know some basic HTML, CSS, and JavaScript, this handbook is for you. You'll learn about JSX, components, event handlers, hooks, and more. (full length handbook): https://www.freecodecamp.org/news/react-handbook-for-beginners-learn-jsx-hooks-rendering/\\n\\n3. On this week's freeCodeCamp podcast: from injured athlete to self-taught software engineer. I interview Kaleb Garner who earned a university scholarship to play baseball. But after a career-ending injury, he dropped out and moved back in with his parents. While working at an optometry office, he used freeCodeCamp to learn programming. We talk about how he was able to land his first developer job after only 20 carefully-researched applications. He also shares tips for making your network and your skillset more layoff-resilient. (1 hour watch or listen in your favorite podcast app): https://www.freecodecamp.org/news/from-injured-athlete-to-software-engineer-with-kaleb-garner-podcast-193/\\n\\n4. This SwiftUI for Beginners course will give you the tools you need to build your first iPhone app. You can code along at home and build your own movie browsing app with powerful search features and the ability to stream movie trailers. You'll learn about navigation, API networking requests, SwiftData, and more. (4 hour YouTube course): https://www.freecodecamp.org/news/learn-swiftui-and-create-an-ios-app-from-scratch/\\n\\n5. Finally, freeCodeCamp published an advanced Python tutorial on Machine Learning Lineage. This is important to establish the safety of mission critical AI systems. You'll learn about ETL Pipelines, Data Drift Checks, Model Tuning, and Model Risk Assessment. (20 minute read): https://www.freecodecamp.org/news/how-to-build-end-to-end-machine-learning-lineage/\\n\\nThe freeCodeCamp community has been absolutely tearing it up lately with all these awesome open source learning resources. You should join the 10,494 kind folks who support our charity's mission: https://www.freecodecamp.org/donate\\n\\nQuote of the Week: \\n“If they won't hire you without a degree, they weren't a good fit for you anyway.” — Software Engineer Kaleb Garner on this week's freeCodeCamp podcast\\n\\nUntil next week, happy coding.\\n\\n-- Quincy Larson\\n\\nTeacher and founder of freeCodeCamp.org\\n\\nIf these aren't worth your time, you can turn them off: https://www.freecodecamp.org/ue/aT58EEzJqwvnzdoCT8yZm\\n</body></html>\"}]"
      ]
     },
     "execution_count": 98,
     "metadata": {},
     "output_type": "execute_result"
    },
    {
     "ename": "",
     "evalue": "",
     "output_type": "error",
     "traceback": [
      "\u001b[1;31mThe Kernel crashed while executing code in the current cell or a previous cell. \n",
      "\u001b[1;31mPlease review the code in the cell(s) to identify a possible cause of the failure. \n",
      "\u001b[1;31mClick <a href='https://aka.ms/vscodeJupyterKernelCrash'>here</a> for more info. \n",
      "\u001b[1;31mView Jupyter <a href='command:jupyter.viewOutput'>log</a> for further details."
     ]
    }
   ],
   "source": [
    "result = eml_to_html(parent_folder)\n",
    "result"
   ]
  },
  {
   "cell_type": "code",
   "execution_count": 95,
   "id": "df85a04a",
   "metadata": {},
   "outputs": [
    {
     "name": "stdout",
     "output_type": "stream",
     "text": [
      "Total files: 4\n",
      "{'From': 'quincy@freecodecamp.org', 'Subject': 'Learn Full Stack Development [Free 47-hour YouTube course on Node, Git, SQL, TypeScript]', 'Body': \"<html><body>Here are this week's five freeCodeCamp resources that are worth your time:\\n\\n1. freeCodeCamp just published a new in-depth course that will teach you full stack development fundamentals from the ground up. It covers front end development tools like HTML, CSS, and JavaScript. Then it moves to back end development tools like Node, SQL, and TypeScript. You can code along at home and build a variety of projects while getting exposed to a ton of concepts. (47 hour YouTube course): https://www.freecodecamp.org/news/become-a-full-stack-developer-with-one-video/\\n\\n2. We also just completed work on this new Go programming course where you build your own movie streaming app. Go is a fast back end language, and here we're pairing it with the Gin-Gonic web server framework. As you build this project, you'll also integrate your movie database with OpenAI's API to analyze data and give your users personalized movie recommendations. (15 hour YouTube course): https://www.freecodecamp.org/news/build-a-full-stack-movie-streaming-app-with-go-react-mongodb-openai/\\n\\n3. On this week's podcast I interview the self-taught developer who built freeCodeCamp's relational database curriculum, and is now designing our daily coding challenges. Tom Mondloch shares how he finished community college and wasn't sure what to do next. So he spent the next few years working odd jobs in the great outdoors. He used freeCodeCamp to learn modern development tools and started contributing to open source projects. He shares tips for brushing up on your skills after you've taken a long break from programming. (1 hour watch or listen in your favorite podcast app): https://www.freecodecamp.org/news/lone-wolf-dev-turned-open-source-super-contributor-tom-mondloch-podcast-190/\\n\\n4. When browsing the web, you may see the error message that something has been “blocked by CORS policy.” CORS stands for Cross-Origin Resource Sharing. When fetching data, if the domain of the requester is different from the domain of the receiver, your browser will reject that request. It's an important security measure, but it can also be a headache for developers trying to maintain their web apps. Luckily, freeCodeCamp just published this tutorial – chock full of theory and code examples – to help you understand the basics. (20 minute read): https://www.freecodecamp.org/news/how-to-fix-cross-origin-errors/\\n\\n5. You've probably heard people throw around terms like Deep Learning, Machine Learning, and Generative AI. But what do they mean in relation to one another? This quick article breaks down the jargon for you in plain English. (10 minute read): https://www.freecodecamp.org/news/machine-learning-vs-deep-learning-vs-generative-ai/\\n\\nI'm proud of the freeCodeCamp community and all these open source learning resources we're building. If you're proud of it too, then please consider joining the 10,881 kind folks who support our charity and our mission: https://www.freecodecamp.org/donate\\n\\nQuote of the Week: \\n“Just start. Find an open source repo. Find an issue. Even if it’s just a typo. Fix it and move on from there. That’s how you gain experience and grow as a developer.” — Software Engineer Tom Mondloch on this week's freeCodeCamp podcast\\n\\nUntil next week, happy coding.\\n\\n-- Quincy Larson\\n\\nTeacher and founder of freeCodeCamp.org\\n\\nIf these aren't worth your time, you can turn them off: https://www.freecodecamp.org/ue/aT58EEzJqwvnzdoCT8yZm\\n</body></html>\"}\n",
      "Moving file:1\n",
      "File 1moved.\n",
      "{'From': 'quincy@freecodecamp.org', 'Subject': 'Learn Data Structures and Algorithms [Free 49-hour programming course]', 'Body': \"<html><body>Here are this week's five freeCodeCamp resources that are worth your time:\\n\\n1. freeCodeCamp just published a massive course that will teach you almost every major data structure and algorithm that may come up in a developer job interview. You'll learn about Time Complexity, Space Complexity, and Big O Notation. Then you'll learn concepts like Trees, Graphs, Dynamic Programming, Backtracking, and more. (49 hour YouTube course): https://www.freecodecamp.org/news/master-technical-interviews-by-learning-data-structures-and-algorithms/\\n\\n2. freeCodeCamp also published a handbook that will teach you React for beginners. React is a powerful front end development library that tons of companies use to make their websites more interactive. If you already know some basic HTML, CSS, and JavaScript, this handbook is for you. You'll learn about JSX, components, event handlers, hooks, and more. (full length handbook): https://www.freecodecamp.org/news/react-handbook-for-beginners-learn-jsx-hooks-rendering/\\n\\n3. On this week's freeCodeCamp podcast: from injured athlete to self-taught software engineer. I interview Kaleb Garner who earned a university scholarship to play baseball. But after a career-ending injury, he dropped out and moved back in with his parents. While working at an optometry office, he used freeCodeCamp to learn programming. We talk about how he was able to land his first developer job after only 20 carefully-researched applications. He also shares tips for making your network and your skillset more layoff-resilient. (1 hour watch or listen in your favorite podcast app): https://www.freecodecamp.org/news/from-injured-athlete-to-software-engineer-with-kaleb-garner-podcast-193/\\n\\n4. This SwiftUI for Beginners course will give you the tools you need to build your first iPhone app. You can code along at home and build your own movie browsing app with powerful search features and the ability to stream movie trailers. You'll learn about navigation, API networking requests, SwiftData, and more. (4 hour YouTube course): https://www.freecodecamp.org/news/learn-swiftui-and-create-an-ios-app-from-scratch/\\n\\n5. Finally, freeCodeCamp published an advanced Python tutorial on Machine Learning Lineage. This is important to establish the safety of mission critical AI systems. You'll learn about ETL Pipelines, Data Drift Checks, Model Tuning, and Model Risk Assessment. (20 minute read): https://www.freecodecamp.org/news/how-to-build-end-to-end-machine-learning-lineage/\\n\\nThe freeCodeCamp community has been absolutely tearing it up lately with all these awesome open source learning resources. You should join the 10,494 kind folks who support our charity's mission: https://www.freecodecamp.org/donate\\n\\nQuote of the Week: \\n“If they won't hire you without a degree, they weren't a good fit for you anyway.” — Software Engineer Kaleb Garner on this week's freeCodeCamp podcast\\n\\nUntil next week, happy coding.\\n\\n-- Quincy Larson\\n\\nTeacher and founder of freeCodeCamp.org\\n\\nIf these aren't worth your time, you can turn them off: https://www.freecodecamp.org/ue/aT58EEzJqwvnzdoCT8yZm\\n</body></html>\"}\n",
      "Moving file:2\n",
      "File 2moved.\n",
      "Total files: 3\n"
     ]
    }
   ],
   "source": [
    "logging.info('eml_to_html started execution.')\n",
    "folder_with_files = os.path.join(parent_folder, \"EML_Files\")\n",
    "html_list = []\n",
    "total_eml_files = 0\n",
    "for _,_,files in os.walk(folder_with_files, followlinks=False):\n",
    "    print(\"Total files: \" + str(len(files)))\n",
    "    for file in files:\n",
    "        if file.endswith(\".eml\"):\n",
    "            total_eml_files+=1\n",
    "            file_path = os.path.join(folder_with_files, file)\n",
    "         \n",
    "            file_data = {}\n",
    "\n",
    "            if not os.path.exists(file_path):\n",
    "                continue\n",
    "\n",
    "            with open(file_path, 'rb') as opened_file:\n",
    "                msg = BytesParser(policy=policy.default).parse(opened_file)\n",
    "                \n",
    " \n",
    "         \n",
    "            plain_text_part = msg.get_body(preferencelist=('plain',))\n",
    "            if plain_text_part:\n",
    "                try:\n",
    "                    file_data[\"From\"] = msg.get(\"From\").split(\"<\")[1].replace(\">\",\"\")\n",
    "                except:\n",
    "                    file_data[\"From\"] = \"Error when getting From data\"\n",
    "                try:\n",
    "                    file_data[\"Subject\"] = msg.get(\"Subject\")\n",
    "                except:\n",
    "                    file_data[\"Subject\"] = \"Error when getting Subject data\"\n",
    "                try:\n",
    "                    file_data[\"Body\"] = f\"<html><body>{plain_text_part.get_content()}</body></html>\"\n",
    "                except:\n",
    "                    file_data[\"Body\"] = \"<html><body>Error when getting Body data</body></html>\"\n",
    "                html_list.append(file_data)\n",
    "                print(file_data)\n",
    "            else:\n",
    "                file_data[\"From\"] = \"Couldn't get From data\"\n",
    "                file_data[\"Subject\"] = \"Couldn't get Subject data\"\n",
    "                file_data[\"Body\"] = \"<html><body>No content found</body></html>\"\n",
    "                html_list.append(file_data)\n",
    "             \n",
    "             \n",
    "            print(\"Moving file:\" + str(total_eml_files))\n",
    "            processed_file = os.path.join(folder_with_files, \"Processed\", file)\n",
    "            shutil.move(file_path,processed_file)\n",
    "            print(\"File \" + str(total_eml_files) + \"moved.\")\n",
    "logging.info(f\"Total eml files in {folder_with_files}: {total_eml_files}\")\n",
    "logging.info(f\"Total items in html_list: {len(html_list)}\")"
   ]
  },
  {
   "cell_type": "code",
   "execution_count": 81,
   "id": "275ef90d",
   "metadata": {},
   "outputs": [
    {
     "data": {
      "text/plain": [
       "('/Users/zenmaster/Programming/FreeCodeCamp/EML_Files/Processed',\n",
       " [],\n",
       " ['.DS_Store'])"
      ]
     },
     "execution_count": 81,
     "metadata": {},
     "output_type": "execute_result"
    }
   ],
   "source": [
    "files"
   ]
  },
  {
   "cell_type": "code",
   "execution_count": 63,
   "id": "22d45536",
   "metadata": {},
   "outputs": [
    {
     "data": {
      "text/plain": [
       "['.DS_Store']"
      ]
     },
     "execution_count": 63,
     "metadata": {},
     "output_type": "execute_result"
    }
   ],
   "source": [
    "file_list"
   ]
  },
  {
   "cell_type": "code",
   "execution_count": 18,
   "id": "f603502f",
   "metadata": {},
   "outputs": [
    {
     "data": {
      "text/plain": [
       "'/Users/zenmaster/Programming/FreeCodeCamp'"
      ]
     },
     "execution_count": 18,
     "metadata": {},
     "output_type": "execute_result"
    }
   ],
   "source": [
    "os.getcwd()"
   ]
  },
  {
   "cell_type": "code",
   "execution_count": 54,
   "id": "1acf1d06",
   "metadata": {},
   "outputs": [
    {
     "name": "stdout",
     "output_type": "stream",
     "text": [
      "Total files: 4\n",
      "{'From': 'quincy@freecodecamp.org', 'Subject': 'Learn Full Stack Development [Free 47-hour YouTube course on Node, Git, SQL, TypeScript]', 'Body': \"<html><body>Here are this week's five freeCodeCamp resources that are worth your time:\\n\\n1. freeCodeCamp just published a new in-depth course that will teach you full stack development fundamentals from the ground up. It covers front end development tools like HTML, CSS, and JavaScript. Then it moves to back end development tools like Node, SQL, and TypeScript. You can code along at home and build a variety of projects while getting exposed to a ton of concepts. (47 hour YouTube course): https://www.freecodecamp.org/news/become-a-full-stack-developer-with-one-video/\\n\\n2. We also just completed work on this new Go programming course where you build your own movie streaming app. Go is a fast back end language, and here we're pairing it with the Gin-Gonic web server framework. As you build this project, you'll also integrate your movie database with OpenAI's API to analyze data and give your users personalized movie recommendations. (15 hour YouTube course): https://www.freecodecamp.org/news/build-a-full-stack-movie-streaming-app-with-go-react-mongodb-openai/\\n\\n3. On this week's podcast I interview the self-taught developer who built freeCodeCamp's relational database curriculum, and is now designing our daily coding challenges. Tom Mondloch shares how he finished community college and wasn't sure what to do next. So he spent the next few years working odd jobs in the great outdoors. He used freeCodeCamp to learn modern development tools and started contributing to open source projects. He shares tips for brushing up on your skills after you've taken a long break from programming. (1 hour watch or listen in your favorite podcast app): https://www.freecodecamp.org/news/lone-wolf-dev-turned-open-source-super-contributor-tom-mondloch-podcast-190/\\n\\n4. When browsing the web, you may see the error message that something has been “blocked by CORS policy.” CORS stands for Cross-Origin Resource Sharing. When fetching data, if the domain of the requester is different from the domain of the receiver, your browser will reject that request. It's an important security measure, but it can also be a headache for developers trying to maintain their web apps. Luckily, freeCodeCamp just published this tutorial – chock full of theory and code examples – to help you understand the basics. (20 minute read): https://www.freecodecamp.org/news/how-to-fix-cross-origin-errors/\\n\\n5. You've probably heard people throw around terms like Deep Learning, Machine Learning, and Generative AI. But what do they mean in relation to one another? This quick article breaks down the jargon for you in plain English. (10 minute read): https://www.freecodecamp.org/news/machine-learning-vs-deep-learning-vs-generative-ai/\\n\\nI'm proud of the freeCodeCamp community and all these open source learning resources we're building. If you're proud of it too, then please consider joining the 10,881 kind folks who support our charity and our mission: https://www.freecodecamp.org/donate\\n\\nQuote of the Week: \\n“Just start. Find an open source repo. Find an issue. Even if it’s just a typo. Fix it and move on from there. That’s how you gain experience and grow as a developer.” — Software Engineer Tom Mondloch on this week's freeCodeCamp podcast\\n\\nUntil next week, happy coding.\\n\\n-- Quincy Larson\\n\\nTeacher and founder of freeCodeCamp.org\\n\\nIf these aren't worth your time, you can turn them off: https://www.freecodecamp.org/ue/aT58EEzJqwvnzdoCT8yZm\\n</body></html>\"}\n",
      "Moving file:1\n",
      "File 1moved.\n",
      "{'From': 'quincy@freecodecamp.org', 'Subject': 'Learn Data Structures and Algorithms [Free 49-hour programming course]', 'Body': \"<html><body>Here are this week's five freeCodeCamp resources that are worth your time:\\n\\n1. freeCodeCamp just published a massive course that will teach you almost every major data structure and algorithm that may come up in a developer job interview. You'll learn about Time Complexity, Space Complexity, and Big O Notation. Then you'll learn concepts like Trees, Graphs, Dynamic Programming, Backtracking, and more. (49 hour YouTube course): https://www.freecodecamp.org/news/master-technical-interviews-by-learning-data-structures-and-algorithms/\\n\\n2. freeCodeCamp also published a handbook that will teach you React for beginners. React is a powerful front end development library that tons of companies use to make their websites more interactive. If you already know some basic HTML, CSS, and JavaScript, this handbook is for you. You'll learn about JSX, components, event handlers, hooks, and more. (full length handbook): https://www.freecodecamp.org/news/react-handbook-for-beginners-learn-jsx-hooks-rendering/\\n\\n3. On this week's freeCodeCamp podcast: from injured athlete to self-taught software engineer. I interview Kaleb Garner who earned a university scholarship to play baseball. But after a career-ending injury, he dropped out and moved back in with his parents. While working at an optometry office, he used freeCodeCamp to learn programming. We talk about how he was able to land his first developer job after only 20 carefully-researched applications. He also shares tips for making your network and your skillset more layoff-resilient. (1 hour watch or listen in your favorite podcast app): https://www.freecodecamp.org/news/from-injured-athlete-to-software-engineer-with-kaleb-garner-podcast-193/\\n\\n4. This SwiftUI for Beginners course will give you the tools you need to build your first iPhone app. You can code along at home and build your own movie browsing app with powerful search features and the ability to stream movie trailers. You'll learn about navigation, API networking requests, SwiftData, and more. (4 hour YouTube course): https://www.freecodecamp.org/news/learn-swiftui-and-create-an-ios-app-from-scratch/\\n\\n5. Finally, freeCodeCamp published an advanced Python tutorial on Machine Learning Lineage. This is important to establish the safety of mission critical AI systems. You'll learn about ETL Pipelines, Data Drift Checks, Model Tuning, and Model Risk Assessment. (20 minute read): https://www.freecodecamp.org/news/how-to-build-end-to-end-machine-learning-lineage/\\n\\nThe freeCodeCamp community has been absolutely tearing it up lately with all these awesome open source learning resources. You should join the 10,494 kind folks who support our charity's mission: https://www.freecodecamp.org/donate\\n\\nQuote of the Week: \\n“If they won't hire you without a degree, they weren't a good fit for you anyway.” — Software Engineer Kaleb Garner on this week's freeCodeCamp podcast\\n\\nUntil next week, happy coding.\\n\\n-- Quincy Larson\\n\\nTeacher and founder of freeCodeCamp.org\\n\\nIf these aren't worth your time, you can turn them off: https://www.freecodecamp.org/ue/aT58EEzJqwvnzdoCT8yZm\\n</body></html>\"}\n",
      "Moving file:2\n",
      "File 2moved.\n",
      "Total files: 3\n"
     ]
    },
    {
     "ename": "FileNotFoundError",
     "evalue": "[Errno 2] No such file or directory: '/Users/zenmaster/Programming/FreeCodeCamp/EML_Files/Learn Full Stack Development [Free 47-hour YouTube course on Node, Git, SQL, TypeScript].eml'",
     "output_type": "error",
     "traceback": [
      "\u001b[31m---------------------------------------------------------------------------\u001b[39m",
      "\u001b[31mFileNotFoundError\u001b[39m                         Traceback (most recent call last)",
      "\u001b[36mCell\u001b[39m\u001b[36m \u001b[39m\u001b[32mIn[54]\u001b[39m\u001b[32m, line 1\u001b[39m\n\u001b[32m----> \u001b[39m\u001b[32m1\u001b[39m result = eml_to_html(os.getcwd())\n\u001b[32m      2\u001b[39m result\n",
      "\u001b[36mCell\u001b[39m\u001b[36m \u001b[39m\u001b[32mIn[53]\u001b[39m\u001b[32m, line 21\u001b[39m, in \u001b[36meml_to_html\u001b[39m\u001b[34m(parent_folder)\u001b[39m\n\u001b[32m     17\u001b[39m file_path = os.path.join(folder_with_files, file)\n\u001b[32m     19\u001b[39m file_data = {}\n\u001b[32m---> \u001b[39m\u001b[32m21\u001b[39m \u001b[38;5;28;01mwith\u001b[39;00m \u001b[38;5;28mopen\u001b[39m(file_path, \u001b[33m'\u001b[39m\u001b[33mrb\u001b[39m\u001b[33m'\u001b[39m) \u001b[38;5;28;01mas\u001b[39;00m opened_file:\n\u001b[32m     22\u001b[39m     msg = BytesParser(policy=policy.default).parse(opened_file)\n\u001b[32m     25\u001b[39m plain_text_part = msg.get_body(preferencelist=(\u001b[33m'\u001b[39m\u001b[33mplain\u001b[39m\u001b[33m'\u001b[39m,))\n",
      "\u001b[36mFile \u001b[39m\u001b[32m~/Programming/FreeCodeCamp/.conda/lib/python3.11/site-packages/IPython/core/interactiveshell.py:326\u001b[39m, in \u001b[36m_modified_open\u001b[39m\u001b[34m(file, *args, **kwargs)\u001b[39m\n\u001b[32m    319\u001b[39m \u001b[38;5;28;01mif\u001b[39;00m file \u001b[38;5;129;01min\u001b[39;00m {\u001b[32m0\u001b[39m, \u001b[32m1\u001b[39m, \u001b[32m2\u001b[39m}:\n\u001b[32m    320\u001b[39m     \u001b[38;5;28;01mraise\u001b[39;00m \u001b[38;5;167;01mValueError\u001b[39;00m(\n\u001b[32m    321\u001b[39m         \u001b[33mf\u001b[39m\u001b[33m\"\u001b[39m\u001b[33mIPython won\u001b[39m\u001b[33m'\u001b[39m\u001b[33mt let you open fd=\u001b[39m\u001b[38;5;132;01m{\u001b[39;00mfile\u001b[38;5;132;01m}\u001b[39;00m\u001b[33m by default \u001b[39m\u001b[33m\"\u001b[39m\n\u001b[32m    322\u001b[39m         \u001b[33m\"\u001b[39m\u001b[33mas it is likely to crash IPython. If you know what you are doing, \u001b[39m\u001b[33m\"\u001b[39m\n\u001b[32m    323\u001b[39m         \u001b[33m\"\u001b[39m\u001b[33myou can use builtins\u001b[39m\u001b[33m'\u001b[39m\u001b[33m open.\u001b[39m\u001b[33m\"\u001b[39m\n\u001b[32m    324\u001b[39m     )\n\u001b[32m--> \u001b[39m\u001b[32m326\u001b[39m \u001b[38;5;28;01mreturn\u001b[39;00m io_open(file, *args, **kwargs)\n",
      "\u001b[31mFileNotFoundError\u001b[39m: [Errno 2] No such file or directory: '/Users/zenmaster/Programming/FreeCodeCamp/EML_Files/Learn Full Stack Development [Free 47-hour YouTube course on Node, Git, SQL, TypeScript].eml'"
     ]
    }
   ],
   "source": [
    "result = eml_to_html(os.getcwd())\n",
    "result"
   ]
  },
  {
   "cell_type": "code",
   "execution_count": null,
   "id": "e742f177",
   "metadata": {},
   "outputs": [],
   "source": [
    "a_list_to_test = eml_to_html(eml_folder_name)\n",
    "a_list_to_test"
   ]
  },
  {
   "cell_type": "code",
   "execution_count": null,
   "id": "bb38b7ba",
   "metadata": {},
   "outputs": [],
   "source": [
    "def request_func(html_list):\n",
    "\n",
    "    logging.info('Request function started.')\n",
    "    \n",
    "    total_items = 0\n",
    "    for item in html_list:\n",
    "\n",
    "        data = {\n",
    "        \"from\": item[\"From\"],\n",
    "        \"subject\": item[\"Subject\"],\n",
    "        \"html\": item[\"Body\"]\n",
    "        }\n",
    "\n",
    "        try:\n",
    "            r = requests.post(\"http://127.0.0.1:8000/inbound\", json=data)\n",
    "            total_items+=r.json()[\"staged\"]\n",
    "            print(r.json())\n",
    "            logging.info(f\"Request posted successfully: {r.json()}\")\n",
    "            \n",
    "        except Exception as e:\n",
    "            print(f\"There was an error when posting the item {item}\")\n",
    "            print(f\"Exception: {e}\")\n",
    "            logging.error(f\"Exception: {e}\")\n",
    "    \n",
    "    total_items_string = f\"Total Items Staged: {total_items}\"\n",
    "    print(total_items_string)\n",
    "    logging.info(total_items_string)"
   ]
  },
  {
   "cell_type": "code",
   "execution_count": null,
   "id": "cbe2ecb6",
   "metadata": {},
   "outputs": [],
   "source": [
    "def request_main():\n",
    "\n",
    "    for handler in logging.root.handlers[:]:\n",
    "            logging.root.removeHandler(handler)\n",
    "    \n",
    "    parent_folder = os.getcwd()\n",
    "\n",
    "    today_folder = os.path.join(parent_folder, f\"logs/{str(date.today())}\")\n",
    "\n",
    "    if (not os.path.isdir(today_folder)):\n",
    "        os.mkdir(today_folder)\n",
    "\n",
    "\n",
    "    log_file = os.path.join(today_folder, \"/FreeCodeCampRequestLog.log\")\n",
    "    \n",
    "    logging.basicConfig(\n",
    "        level=logging.INFO,\n",
    "        format='%(asctime)s [%(levelname)s] - %(message)s',\n",
    "        filename=log_file)\n",
    "    \n",
    "    logging.info('Request main started.')\n",
    "\n",
    "    try:\n",
    "        \n",
    "        html_list = eml_to_html(parent_folder)\n",
    "\n",
    "        request_func(html_list)\n",
    "\n",
    "    except Exception as e:\n",
    "        print(f\"Exception: {e}\")\n",
    "        logging.error(f\"Exception: {e}\")\n",
    "\n",
    "    logging.info('Request main finished.')"
   ]
  },
  {
   "cell_type": "code",
   "execution_count": null,
   "id": "2375e7de",
   "metadata": {},
   "outputs": [],
   "source": [
    "request_main()"
   ]
  },
  {
   "cell_type": "code",
   "execution_count": null,
   "id": "6b4f9c34",
   "metadata": {},
   "outputs": [],
   "source": []
  },
  {
   "cell_type": "code",
   "execution_count": null,
   "id": "a39b3cfe",
   "metadata": {},
   "outputs": [],
   "source": [
    "str(today)"
   ]
  },
  {
   "cell_type": "code",
   "execution_count": null,
   "id": "6b58f63a",
   "metadata": {},
   "outputs": [],
   "source": [
    "parent_folder = os.getcwd()\n",
    "\n",
    "today = date.today()\n",
    "\n",
    "today_folder = os.path.join(parent_folder, f\"logs/{str(today)}\")\n",
    "\n",
    "if (not os.path.isdir(today_folder)):\n",
    "    os.mkdir(today_folder)\n",
    "\n",
    "\n",
    "log_file = os.path.join(today_folder, \"/FreeCodeCampRequestLog.log\")"
   ]
  },
  {
   "cell_type": "code",
   "execution_count": null,
   "id": "e925c099",
   "metadata": {},
   "outputs": [],
   "source": [
    "import subprocess"
   ]
  },
  {
   "cell_type": "code",
   "execution_count": null,
   "id": "c85d36c7",
   "metadata": {},
   "outputs": [],
   "source": [
    "streamlit run ui/app.py\n",
    "uvicorn api.main:app --reload"
   ]
  },
  {
   "cell_type": "code",
   "execution_count": null,
   "id": "a4b057bd",
   "metadata": {},
   "outputs": [],
   "source": [
    "commands = [[\"streamlit\",\"run\", \"ui/app.py\"], [\"uvicorn\",\"api.main:app\", \"--reload\"]]\n",
    "procs = [ subprocess.Popen(i) for i in commands ]\n",
    "for p in procs:\n",
    "   p.wait()"
   ]
  },
  {
   "cell_type": "code",
   "execution_count": null,
   "id": "42635847",
   "metadata": {},
   "outputs": [],
   "source": [
    "import shlex"
   ]
  },
  {
   "cell_type": "code",
   "execution_count": null,
   "id": "2ec359d3",
   "metadata": {},
   "outputs": [],
   "source": [
    "commands = [[\"uvicorn\",\"api.main:app\", \"--reload\"], [\"python\", \"emlScript.py\"],[\"streamlit\",\"run\", \"ui/app.py\"]]\n",
    "procs = [ subprocess.Popen(i) for i in commands ]\n",
    "for p in procs:\n",
    "   p.wait()"
   ]
  },
  {
   "cell_type": "code",
   "execution_count": null,
   "id": "a9a01319",
   "metadata": {},
   "outputs": [],
   "source": []
  }
 ],
 "metadata": {
  "kernelspec": {
   "display_name": "Python 3",
   "language": "python",
   "name": "python3"
  },
  "language_info": {
   "codemirror_mode": {
    "name": "ipython",
    "version": 3
   },
   "file_extension": ".py",
   "mimetype": "text/x-python",
   "name": "python",
   "nbconvert_exporter": "python",
   "pygments_lexer": "ipython3",
   "version": "3.11.13"
  }
 },
 "nbformat": 4,
 "nbformat_minor": 5
}
