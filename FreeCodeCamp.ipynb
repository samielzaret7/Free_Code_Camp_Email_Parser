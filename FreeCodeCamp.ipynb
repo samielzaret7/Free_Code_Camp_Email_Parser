{
 "cells": [
  {
   "cell_type": "code",
   "execution_count": null,
   "id": "51683e6e",
   "metadata": {},
   "outputs": [],
   "source": [
    "from email import policy\n",
    "from email.parser import BytesParser\n",
    "import requests\n",
    "import logging\n",
    "from datetime import date\n",
    "import subprocess\n",
    "import os"
   ]
  },
  {
   "cell_type": "code",
   "execution_count": null,
   "id": "8233d724",
   "metadata": {},
   "outputs": [],
   "source": [
    "from email import policy\n",
    "from email.parser import BytesParser\n",
    "\n",
    "def eml_to_html(eml_file):\n",
    "    with open(eml_file, 'rb') as file:\n",
    "        msg = BytesParser(policy=policy.default).parse(file)\n",
    "    \n",
    "    html_content = None\n",
    "    for part in msg.walk():\n",
    "        if part.get_content_type() == \"text/html\":\n",
    "            html_content = part.get_payload(decode=True)\n",
    "            break\n",
    "    \n",
    "    if html_content:\n",
    "        return html_content.decode('utf-8', errors='replace')\n",
    "    else:\n",
    "        plain_text_part = msg.get_body(preferencelist=('plain',))\n",
    "        if plain_text_part:\n",
    "            return f\"<html><body>{plain_text_part.get_content()}</body></html>\"\n",
    "        else:\n",
    "            return \"<html><body>No content found</body></html>\""
   ]
  },
  {
   "cell_type": "code",
   "execution_count": null,
   "id": "5d717fd8",
   "metadata": {},
   "outputs": [],
   "source": [
    "eml_file = '/Users/zenmaster/Programming/FreeCodeCamp/EML_Files/Learn how to code your own MCP server with Python [Free 1 hour course].eml'"
   ]
  },
  {
   "cell_type": "code",
   "execution_count": null,
   "id": "a1a2e168",
   "metadata": {},
   "outputs": [],
   "source": [
    "with open(eml_file, 'rb') as file:\n",
    "                msg = BytesParser(policy=policy.default).parse(file)"
   ]
  },
  {
   "cell_type": "code",
   "execution_count": null,
   "id": "1476c092",
   "metadata": {},
   "outputs": [],
   "source": [
    "parts = []\n",
    "for part in msg.walk():\n",
    "    print(part)"
   ]
  },
  {
   "cell_type": "code",
   "execution_count": null,
   "id": "50e84973",
   "metadata": {},
   "outputs": [],
   "source": [
    "from_email = msg.get(\"From\")[0].split(\"<\")[1].replace(\">\",\"\")\n",
    "from_email"
   ]
  },
  {
   "cell_type": "code",
   "execution_count": null,
   "id": "f8e3461f",
   "metadata": {},
   "outputs": [],
   "source": [
    "from_email = msg.get(\"From\").split(\"<\")[1].replace(\">\",\"\")\n",
    "from_email"
   ]
  },
  {
   "cell_type": "code",
   "execution_count": null,
   "id": "746e6f68",
   "metadata": {},
   "outputs": [],
   "source": [
    "subject = msg.get(\"Subject\")\n",
    "subject"
   ]
  },
  {
   "cell_type": "code",
   "execution_count": null,
   "id": "71517d4d",
   "metadata": {},
   "outputs": [],
   "source": [
    "html = eml_to_html(eml_file)"
   ]
  },
  {
   "cell_type": "code",
   "execution_count": null,
   "id": "bae2b198",
   "metadata": {},
   "outputs": [],
   "source": [
    "html"
   ]
  },
  {
   "cell_type": "code",
   "execution_count": null,
   "id": "01ecb501",
   "metadata": {},
   "outputs": [],
   "source": [
    "import requests\n",
    "\n",
    "data = {\n",
    "    \"from\": \"freecodecamp@example.com\",\n",
    "    \"subject\": \"Weekly FreeCodeCamp Courses\",\n",
    "    \"html\": html\n",
    "}\n",
    "\n",
    "r = requests.post(\"http://127.0.0.1:8000/inbound\", json=data)\n",
    "print(r.json())\n"
   ]
  },
  {
   "cell_type": "code",
   "execution_count": null,
   "id": "0997618d",
   "metadata": {},
   "outputs": [],
   "source": [
    "conda activate /Users/zenmaster/Programming/FreeCodeCamp/.conda"
   ]
  },
  {
   "cell_type": "code",
   "execution_count": null,
   "id": "662c5608",
   "metadata": {},
   "outputs": [],
   "source": [
    "streamlit run ui/app.py"
   ]
  },
  {
   "cell_type": "code",
   "execution_count": null,
   "id": "8cf16c77",
   "metadata": {},
   "outputs": [],
   "source": [
    "uvicorn api.main:app --reload"
   ]
  },
  {
   "cell_type": "code",
   "execution_count": null,
   "id": "f534bddb",
   "metadata": {},
   "outputs": [],
   "source": [
    "def eml_to_html(parent_folder):\n",
    "\n",
    "    logging.info('eml_to_html started execution.')\n",
    "\n",
    "    folder_with_files = os.path.join(parent_folder, \"EML_Files\")\n",
    "\n",
    "    html_list = []\n",
    "    total_eml_files = 0\n",
    "    for _,_,files in os.walk(folder_with_files):\n",
    "        for file in files:\n",
    "            if file.endswith(\".eml\"):\n",
    "\n",
    "                total_eml_files+=1\n",
    "\n",
    "                file_path = os.path.join(folder_with_files, file)\n",
    "            \n",
    "                file_data = {}\n",
    "\n",
    "                with open(file_path, 'rb') as file:\n",
    "                    msg = BytesParser(policy=policy.default).parse(file)\n",
    "    \n",
    "            \n",
    "                plain_text_part = msg.get_body(preferencelist=('plain',))\n",
    "                if plain_text_part:\n",
    "                    try:\n",
    "                        file_data[\"From\"] = msg.get(\"From\").split(\"<\")[1].replace(\">\",\"\")\n",
    "                    except:\n",
    "                        file_data[\"From\"] = \"Error when getting From data\"\n",
    "\n",
    "                    try:\n",
    "                        file_data[\"Subject\"] = msg.get(\"Subject\")\n",
    "                    except:\n",
    "                        file_data[\"Subject\"] = \"Error when getting Subject data\"\n",
    "\n",
    "                    try:\n",
    "                        file_data[\"Body\"] = f\"<html><body>{plain_text_part.get_content()}</body></html>\"\n",
    "                    except:\n",
    "                        file_data[\"Body\"] = \"<html><body>Error when getting Body data</body></html>\"\n",
    "\n",
    "                    html_list.append(file_data)\n",
    "                else:\n",
    "                    file_data[\"From\"] = \"Couldn't get From data\"\n",
    "                    file_data[\"Subject\"] = \"Couldn't get Subject data\"\n",
    "                    file_data[\"Body\"] = \"<html><body>No content found</body></html>\"\n",
    "\n",
    "                    html_list.append(file_data)\n",
    "\n",
    "    logging.info(f\"Total eml files in {folder_with_files}: {total_eml_files}\")\n",
    "    logging.info(f\"Total items in html_list: {len(html_list)}\")\n",
    "    \n",
    "    return html_list"
   ]
  },
  {
   "cell_type": "code",
   "execution_count": null,
   "id": "e742f177",
   "metadata": {},
   "outputs": [],
   "source": [
    "a_list_to_test = eml_to_html(eml_folder_name)\n",
    "a_list_to_test"
   ]
  },
  {
   "cell_type": "code",
   "execution_count": null,
   "id": "bb38b7ba",
   "metadata": {},
   "outputs": [],
   "source": [
    "def request_func(html_list):\n",
    "\n",
    "    logging.info('Request function started.')\n",
    "    \n",
    "    total_items = 0\n",
    "    for item in html_list:\n",
    "\n",
    "        data = {\n",
    "        \"from\": item[\"From\"],\n",
    "        \"subject\": item[\"Subject\"],\n",
    "        \"html\": item[\"Body\"]\n",
    "        }\n",
    "\n",
    "        try:\n",
    "            r = requests.post(\"http://127.0.0.1:8000/inbound\", json=data)\n",
    "            total_items+=r.json()[\"staged\"]\n",
    "            print(r.json())\n",
    "            logging.info(f\"Request posted successfully: {r.json()}\")\n",
    "            \n",
    "        except Exception as e:\n",
    "            print(f\"There was an error when posting the item {item}\")\n",
    "            print(f\"Exception: {e}\")\n",
    "            logging.error(f\"Exception: {e}\")\n",
    "    \n",
    "    total_items_string = f\"Total Items Staged: {total_items}\"\n",
    "    print(total_items_string)\n",
    "    logging.info(total_items_string)"
   ]
  },
  {
   "cell_type": "code",
   "execution_count": null,
   "id": "cbe2ecb6",
   "metadata": {},
   "outputs": [],
   "source": [
    "def request_main():\n",
    "\n",
    "    for handler in logging.root.handlers[:]:\n",
    "            logging.root.removeHandler(handler)\n",
    "    \n",
    "    parent_folder = os.getcwd()\n",
    "\n",
    "    today_folder = os.path.join(parent_folder, f\"logs/{str(date.today())}\")\n",
    "\n",
    "    if (not os.path.isdir(today_folder)):\n",
    "        os.mkdir(today_folder)\n",
    "\n",
    "\n",
    "    log_file = os.path.join(today_folder, \"/FreeCodeCampRequestLog.log\")\n",
    "    \n",
    "    logging.basicConfig(\n",
    "        level=logging.INFO,\n",
    "        format='%(asctime)s [%(levelname)s] - %(message)s',\n",
    "        filename=log_file)\n",
    "    \n",
    "    logging.info('Request main started.')\n",
    "\n",
    "    try:\n",
    "        \n",
    "        html_list = eml_to_html(parent_folder)\n",
    "\n",
    "        request_func(html_list)\n",
    "\n",
    "    except Exception as e:\n",
    "        print(f\"Exception: {e}\")\n",
    "        logging.error(f\"Exception: {e}\")\n",
    "\n",
    "    logging.info('Request main finished.')"
   ]
  },
  {
   "cell_type": "code",
   "execution_count": null,
   "id": "2375e7de",
   "metadata": {},
   "outputs": [],
   "source": [
    "request_main()"
   ]
  },
  {
   "cell_type": "code",
   "execution_count": null,
   "id": "6b4f9c34",
   "metadata": {},
   "outputs": [],
   "source": []
  },
  {
   "cell_type": "code",
   "execution_count": null,
   "id": "a39b3cfe",
   "metadata": {},
   "outputs": [],
   "source": [
    "str(today)"
   ]
  },
  {
   "cell_type": "code",
   "execution_count": null,
   "id": "6b58f63a",
   "metadata": {},
   "outputs": [],
   "source": [
    "parent_folder = os.getcwd()\n",
    "\n",
    "today = date.today()\n",
    "\n",
    "today_folder = os.path.join(parent_folder, f\"logs/{str(today)}\")\n",
    "\n",
    "if (not os.path.isdir(today_folder)):\n",
    "    os.mkdir(today_folder)\n",
    "\n",
    "\n",
    "log_file = os.path.join(today_folder, \"/FreeCodeCampRequestLog.log\")"
   ]
  },
  {
   "cell_type": "code",
   "execution_count": null,
   "id": "e925c099",
   "metadata": {},
   "outputs": [],
   "source": [
    "import subprocess"
   ]
  },
  {
   "cell_type": "code",
   "execution_count": null,
   "id": "c85d36c7",
   "metadata": {},
   "outputs": [],
   "source": [
    "streamlit run ui/app.py\n",
    "uvicorn api.main:app --reload"
   ]
  },
  {
   "cell_type": "code",
   "execution_count": null,
   "id": "a4b057bd",
   "metadata": {},
   "outputs": [],
   "source": [
    "commands = [[\"streamlit\",\"run\", \"ui/app.py\"], [\"uvicorn\",\"api.main:app\", \"--reload\"]]\n",
    "procs = [ subprocess.Popen(i) for i in commands ]\n",
    "for p in procs:\n",
    "   p.wait()"
   ]
  },
  {
   "cell_type": "code",
   "execution_count": null,
   "id": "42635847",
   "metadata": {},
   "outputs": [],
   "source": [
    "import shlex"
   ]
  },
  {
   "cell_type": "code",
   "execution_count": null,
   "id": "2ec359d3",
   "metadata": {},
   "outputs": [],
   "source": [
    "commands = [[\"uvicorn\",\"api.main:app\", \"--reload\"], [\"python\", \"emlScript.py\"],[\"streamlit\",\"run\", \"ui/app.py\"]]\n",
    "procs = [ subprocess.Popen(i) for i in commands ]\n",
    "for p in procs:\n",
    "   p.wait()"
   ]
  },
  {
   "cell_type": "code",
   "execution_count": null,
   "id": "a9a01319",
   "metadata": {},
   "outputs": [],
   "source": []
  }
 ],
 "metadata": {
  "kernelspec": {
   "display_name": "Python 3",
   "language": "python",
   "name": "python3"
  },
  "language_info": {
   "codemirror_mode": {
    "name": "ipython",
    "version": 3
   },
   "file_extension": ".py",
   "mimetype": "text/x-python",
   "name": "python",
   "nbconvert_exporter": "python",
   "pygments_lexer": "ipython3",
   "version": "3.11.13"
  }
 },
 "nbformat": 4,
 "nbformat_minor": 5
}
